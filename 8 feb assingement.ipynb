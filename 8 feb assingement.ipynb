{
 "cells": [
  {
   "attachments": {},
   "cell_type": "markdown",
   "metadata": {},
   "source": [
    "8 feb assingement\n",
    "\n",
    "1. What is Abstraction in OOps? Explain with an example."
   ]
  },
  {
   "cell_type": "code",
   "execution_count": 1,
   "metadata": {},
   "outputs": [
    {
     "name": "stdout",
     "output_type": "stream",
     "text": [
      "Woof!\n",
      "Meow!\n"
     ]
    }
   ],
   "source": [
    "'''Abstraction in python is defined as a process of handling complexity by hiding unnecessary information from the user. \n",
    "This is one of the core concepts of object-oriented programming (OOP) languages.Abstraction can be achieved through the use\n",
    "of abstract classes and interfaces.It contains one or more abstract methods, which are methods that do not have an implementation\n",
    "in the abstract class and must be implemented by its subclasses. '''\n",
    "\n",
    "#Example\n",
    "\n",
    "from abc import ABC, abstractmethod\n",
    "\n",
    "class Animal(ABC):\n",
    "    @abstractmethod\n",
    "    def speak(self):\n",
    "        pass\n",
    "\n",
    "class Dog(Animal):\n",
    "    def speak(self):\n",
    "        return \"Woof!\"\n",
    "\n",
    "class Cat(Animal):\n",
    "    def speak(self):\n",
    "        return \"Meow!\"\n",
    "\n",
    "dog = Dog()\n",
    "cat = Cat()\n",
    "\n",
    "print(dog.speak())\n",
    "print(cat.speak()) "
   ]
  },
  {
   "attachments": {},
   "cell_type": "markdown",
   "metadata": {},
   "source": [
    "2. Differentiate between Abstraction and Encapsulation. Explain with an example.\n"
   ]
  },
  {
   "cell_type": "code",
   "execution_count": 3,
   "metadata": {},
   "outputs": [
    {
     "data": {
      "text/plain": [
       "' I create a BankAccount class that encapsulates the data and code related to a bank account. The account number and balance \\nare stored as private variables using double underscores (__), which restricts access to them from outside the class. \\nThe deposit() and withdraw() methods allow the user to modify the balance of the account, but they do so through the class\\ninterface rather than directly accessing the private variables.\\n       \\nHowever, there is no abstraction in this example because all implementation details are exposed to the user. The user can see\\nthe account number and balance by calling the get_balance() method, which may not be desirable in some cases. To add abstraction,\\nwe could create an abstract class BankAccount with abstract methods like deposit() and withdraw(), and then create concrete subclasses \\nlike SavingsAccount and CheckingAccount that implement those methods in different ways '"
      ]
     },
     "execution_count": 3,
     "metadata": {},
     "output_type": "execute_result"
    }
   ],
   "source": [
    "''' Abstraction and encapsulation are both important concepts in object-oriented programming, but they serve different purposes.\n",
    "\n",
    "Abstraction refers to the process of hiding implementation details while showing only the necessary information to the user.\n",
    "This is achieved through the use of abstract classes and interfaces, as shown in the example above.\n",
    "\n",
    "Encapsulation, on the other hand, refers to the process of wrapping data and code together into a single unit, and restricting access \n",
    "to that unit from outside sources. This is achieved through the use of classes and access modifiers like private and protected. '''\n",
    "\n",
    "#Example\n",
    "\n",
    "class BankAccount:\n",
    "    def __init__(self, account_number, balance):\n",
    "        self.__account_number = account_number\n",
    "        self.__balance = balance\n",
    "\n",
    "    def deposit(self, amount):\n",
    "        self.__balance += amount\n",
    "\n",
    "    def withdraw(self, amount):\n",
    "        if amount > self.__balance:\n",
    "            print(\"Insufficient funds\")\n",
    "        else:\n",
    "            self.__balance -= amount\n",
    "\n",
    "    def get_balance(self):\n",
    "        return self.__balance\n",
    "    \n",
    "\n",
    "''' I create a BankAccount class that encapsulates the data and code related to a bank account. The account number and balance \n",
    "are stored as private variables using double underscores (__), which restricts access to them from outside the class. \n",
    "The deposit() and withdraw() methods allow the user to modify the balance of the account, but they do so through the class\n",
    "interface rather than directly accessing the private variables.\n",
    "       \n",
    "However, there is no abstraction in this example because all implementation details are exposed to the user. The user can see\n",
    "the account number and balance by calling the get_balance() method, which may not be desirable in some cases. To add abstraction,\n",
    "we could create an abstract class BankAccount with abstract methods like deposit() and withdraw(), and then create concrete subclasses \n",
    "like SavingsAccount and CheckingAccount that implement those methods in different ways '''"
   ]
  },
  {
   "attachments": {},
   "cell_type": "markdown",
   "metadata": {},
   "source": [
    "3. What is abc module in python? Why is it used?"
   ]
  },
  {
   "cell_type": "code",
   "execution_count": null,
   "metadata": {},
   "outputs": [],
   "source": [
    "''' The abc module in the Python library provides the infrastructure for defining custom abstract base classes.\n",
    "The abc module in Python stands for \"Abstract Base Classes\". It provides a way to define abstract classes in Python, \n",
    "which are classes that cannot be instantiated and only serve as a blueprint for other classes to inherit from.\n",
    "\n",
    "Abstract base classes are useful for creating a common interface or contract that multiple subclasses must adhere to.\n",
    "This ensures that the subclasses implement certain methods or attributes, and allows for polymorphism and code reuse.\n",
    "\n",
    "Overall, the abc module is used to enforce a certain structure or behavior in a group of related classes, and to provide\n",
    "a clear and consistent interface for users of those classes. '''"
   ]
  },
  {
   "attachments": {},
   "cell_type": "markdown",
   "metadata": {},
   "source": [
    "4. How can we achieve data abstraction?\n"
   ]
  },
  {
   "cell_type": "code",
   "execution_count": null,
   "metadata": {},
   "outputs": [],
   "source": [
    "''' Data abstraction in Python can be achieved by using abstract classes and interfaces. The abc module in Python provides \n",
    "a way to define abstract classes, which are classes that cannot be instantiated and only serve as a blueprint for other classes \n",
    "to inherit from.\n",
    "\n",
    "To create an abstract class, you can use the ABC class provided by the abc module as the base class. You can then use \n",
    "the @abstractmethod decorator to mark methods as abstract, meaning that they must be implemented by any subclass.'''"
   ]
  },
  {
   "attachments": {},
   "cell_type": "markdown",
   "metadata": {},
   "source": [
    "5. Can we create an instance of an abstract class? Explain your answer.\n"
   ]
  },
  {
   "cell_type": "code",
   "execution_count": null,
   "metadata": {},
   "outputs": [],
   "source": [
    "''' No, we cannot create an instance of an abstract class in Python. An abstract class is a class that has one or \n",
    "more abstract methods that are not implemented and only serves as a blueprint for other classes to inherit from. \n",
    "Since the abstract methods are not implemented, the abstract class cannot be instantiated. Attempting to create an instance\n",
    "of an abstract class will result in a TypeError. '''"
   ]
  }
 ],
 "metadata": {
  "kernelspec": {
   "display_name": "Python 3",
   "language": "python",
   "name": "python3"
  },
  "language_info": {
   "codemirror_mode": {
    "name": "ipython",
    "version": 3
   },
   "file_extension": ".py",
   "mimetype": "text/x-python",
   "name": "python",
   "nbconvert_exporter": "python",
   "pygments_lexer": "ipython3",
   "version": "3.11.4"
  },
  "orig_nbformat": 4
 },
 "nbformat": 4,
 "nbformat_minor": 2
}
